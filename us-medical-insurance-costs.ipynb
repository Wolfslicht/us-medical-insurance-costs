{
    "cells": [
        {
            "cell_type": "markdown",
            "metadata": {},
            "source": [
                "# U.S. Medical Insurance Costs"
            ]
        },
        {
            "cell_type": "markdown",
            "metadata": {},
            "source": [
                "__Questions to answer.__\n",
                "\n",
                "* 1 How many clients in total ? Ho\n",
                "* a) how many are male ?\n",
                "* b) how many are female ?\n",
                "\n",
                "* 2 What is their average age ?\n",
                "* a) average male age\n",
                "* b) average female age\n",
                "\n",
                "* 3 avg. bmi total / male / female\n",
                "\n",
                "* 4 Average charges / male / female\n",
                "\n",
                "* 5 Amount of smokers / male / female\n",
                "* 6 Avg. age of smokers / male / female\n",
                "* 7 Top region out of 4\n",
                "** a) avg. charges\n",
                "** b) avg. childs\n",
                "** c) avg. age\n",
                "** d) male / female\n",
                "** e) % of smokers"
            ]
        },
        {
            "cell_type": "markdown",
            "metadata": {},
            "source": [
                "Possible packages to use\n",
                "* csv\n",
                "* pandas\n",
                "* matplotlib\n",
                "* json"
            ]
        },
        {
            "cell_type": "code",
            "execution_count": 81,
            "metadata": {},
            "outputs": [],
            "source": [
                "# importing needed modules\n",
                "import csv"
            ]
        },
        {
            "cell_type": "code",
            "execution_count": 82,
            "metadata": {},
            "outputs": [],
            "source": [
                "# declare dictionary with all clients data\n",
                "clients = []"
            ]
        },
        {
            "cell_type": "code",
            "execution_count": 83,
            "metadata": {},
            "outputs": [],
            "source": [
                "#Read from the csv file and save it to use after closing file operation\n",
                "with open ('insurance.csv') as insur:\n",
                "  df = csv.DictReader(insur)\n",
                "  for row in df:\n",
                "    clients.append(row)\n",
                "#print(clients)"
            ]
        },
        {
            "cell_type": "code",
            "execution_count": 84,
            "metadata": {},
            "outputs": [
                {
                    "name": "stdout",
                    "output_type": "stream",
                    "text": [
                        "There are 1338 clients. 662 female clients and 676 male clients.\n"
                    ]
                }
            ],
            "source": [
                "# 1 How many clients inside the db // total / male / female\n",
                "# Startvalues for counting\n",
                "total_clients = 0\n",
                "male_clients = 0\n",
                "female_clients = 0\n",
                "\n",
                "#Checking gender for each client\n",
                "for i in clients:\n",
                "  total_clients += 1\n",
                "  if i.get('sex') == 'male':\n",
                "    male_clients += 1\n",
                "  elif i.get('sex') == 'female':\n",
                "    female_clients += 1\n",
                "  else:\n",
                "    print(\"Gender is missing for one of your clients.\")\n",
                "    \n",
                "# Result\n",
                "print(\"There are\", total_clients, \"clients.\", female_clients, \"female clients and\", male_clients, \"male clients.\")"
            ]
        },
        {
            "cell_type": "code",
            "execution_count": 85,
            "metadata": {},
            "outputs": [
                {
                    "name": "stdout",
                    "output_type": "stream",
                    "text": [
                        "The total average age is: 39.2\n"
                    ]
                }
            ],
            "source": [
                "# 2 average age all clients\n",
                "avg_age = 0\n",
                "total_age = 0\n",
                "for age in clients:\n",
                "  total_age += int(age.get('age'))\n",
                "avg_age = round((total_age / total_clients),1)\n",
                "print(\"The total average age is:\", avg_age)"
            ]
        },
        {
            "cell_type": "code",
            "execution_count": 86,
            "metadata": {},
            "outputs": [
                {
                    "name": "stdout",
                    "output_type": "stream",
                    "text": [
                        "The women avg. age is: 39.5\n",
                        "The males avg. age is: 38.9\n"
                    ]
                }
            ],
            "source": [
                "# 2a 2b avg. age male and female\n",
                "fem_total_age = 0\n",
                "male_total_age = 0\n",
                "for age in clients:\n",
                "  if age.get('sex') == 'male':\n",
                "    male_total_age += int(age.get('age'))\n",
                "  elif age.get('sex') == 'female':\n",
                "    fem_total_age += int(age.get('age'))\n",
                "  else:\n",
                "    print (\"Error!\")\n",
                "fem_avg_age = round((fem_total_age / female_clients),1)\n",
                "male_avg_age = round((male_total_age / male_clients),1)\n",
                "print (\"The women avg. age is:\", fem_avg_age)\n",
                "print (\"The males avg. age is:\", male_avg_age)\n",
                "\n"
            ]
        },
        {
            "cell_type": "code",
            "execution_count": 87,
            "metadata": {},
            "outputs": [
                {
                    "name": "stdout",
                    "output_type": "stream",
                    "text": [
                        "The total average bmi is: 30.7\n",
                        "The female average bmi is: 30.4\n",
                        "The male average bmi is: 30.9\n"
                    ]
                }
            ],
            "source": [
                "# 3 avg BMI total, male and female\n",
                "# Startvalues for counting\n",
                "total_bmi = 0\n",
                "male_bmi = 0\n",
                "female_bmi = 0\n",
                "\n",
                "# Checking bmi for each client\n",
                "for bmi in clients:\n",
                "  total_bmi += float(bmi.get('bmi'))\n",
                "  if bmi.get('sex') == 'male':\n",
                "    male_bmi += float(bmi.get('bmi'))\n",
                "  elif bmi.get('sex') == 'female':\n",
                "    female_bmi += float(bmi.get('bmi'))\n",
                "  else:\n",
                "    print(\"Gender is missing for one of your clients.\")\n",
                "\n",
                "total_avg_bmi = round((total_bmi / total_clients),1)\n",
                "female_avg_bmi = round((female_bmi / female_clients),1)\n",
                "male_avg_bmi = round((male_bmi / male_clients),1)\n",
                "\n",
                "# ergebnis\n",
                "print(\"The total average bmi is:\",total_avg_bmi)\n",
                "print(\"The female average bmi is:\",female_avg_bmi)\n",
                "print(\"The male average bmi is:\",male_avg_bmi)"
            ]
        },
        {
            "cell_type": "code",
            "execution_count": 88,
            "metadata": {},
            "outputs": [
                {
                    "name": "stdout",
                    "output_type": "stream",
                    "text": [
                        "13270.42\n",
                        "12569.58\n",
                        "13956.75\n"
                    ]
                }
            ],
            "source": [
                "# 4 Average charges, male and female\n",
                "# Startvalues for counting\n",
                "total_charges = 0\n",
                "male_charges = 0\n",
                "female_charges = 0\n",
                "\n",
                "# Checking charges for each client\n",
                "for c in clients:\n",
                "  add_amount = float(c.get('charges'))\n",
                "\n",
                "  total_charges += add_amount\n",
                "  if c.get('sex') == 'male':\n",
                "    male_charges += add_amount\n",
                "  elif c.get('sex') == 'female':\n",
                "    female_charges += add_amount\n",
                "  else:\n",
                "    print(\"Gender is missing for one of your clients.\")\n",
                "\n",
                "total_avg = round((total_charges/total_clients),2)\n",
                "male_avg = round((male_charges / male_clients),2)\n",
                "female_avg = round((female_charges / female_clients),2)\n",
                "\n",
                "# Result\n",
                "print(total_avg)\n",
                "print(female_avg)\n",
                "print(male_avg)"
            ]
        },
        {
            "cell_type": "code",
            "execution_count": 89,
            "metadata": {},
            "outputs": [
                {
                    "name": "stdout",
                    "output_type": "stream",
                    "text": [
                        "In total there are 274 smokers in your client pool.\n",
                        "159 male smokers\n",
                        "115 female smokers\n"
                    ]
                }
            ],
            "source": [
                "# 5 How many smokers, male and female ?\n",
                "# Startvalues for counting\n",
                "total_smokers = 0\n",
                "male_smokers = 0\n",
                "female_smokers = 0\n",
                "\n",
                "# Checking smoking status for each client\n",
                "for c in clients:\n",
                "  if c.get('smoker') == \"yes\":\n",
                "\n",
                "      total_smokers += 1\n",
                "      if c.get('sex') == 'male':\n",
                "        male_smokers += 1\n",
                "      elif c.get('sex') == 'female':\n",
                "        female_smokers += 1\n",
                "      else:\n",
                "        print(\"Gender is missing for one of your clients.\")\n",
                "  else:\n",
                "    pass\n",
                "\n",
                "# Result\n",
                "print(f\"In total there are {total_smokers} smokers in your client pool.\")\n",
                "print(f\"{male_smokers} male smokers\")\n",
                "print(f\"{female_smokers} female smokers\")"
            ]
        },
        {
            "cell_type": "code",
            "execution_count": 90,
            "metadata": {},
            "outputs": [
                {
                    "name": "stdout",
                    "output_type": "stream",
                    "text": [
                        "The average smoker has an age of 38 years old\n",
                        "The average male smoker has an age of 38 years old\n",
                        "The average female smoker has an age of 38 years old\n"
                    ]
                }
            ],
            "source": [
                "# 6 Avg. age of smokers, male, female ?\n",
                "# Startvalues for counting\n",
                "total_smokers = 0\n",
                "total_smokers_age = 0\n",
                "\n",
                "male_smokers = 0\n",
                "male_smokers_age = 0\n",
                "\n",
                "female_smokers = 0\n",
                "female_smokers_age = 0\n",
                "\n",
                "# Checking smoking status for each client\n",
                "for c in clients:\n",
                "  if c.get('smoker') == \"yes\":\n",
                "      add_age_amount = int(c.get('age'))\n",
                "      total_smokers += 1\n",
                "      total_smokers_age += add_age_amount\n",
                "      if c.get('sex') == 'male':\n",
                "        male_smokers += 1\n",
                "        male_smokers_age += add_age_amount\n",
                "      elif c.get('sex') == 'female':\n",
                "        female_smokers += 1\n",
                "        female_smokers_age += add_age_amount\n",
                "      else:\n",
                "        print(\"Gender is missing for one of your clients.\")\n",
                "  else:\n",
                "    pass\n",
                "\n",
                "avg_age_smoker = round((total_smokers_age / total_smokers),2)\n",
                "avg_age_male_smoker = round((male_smokers_age / male_smokers),2)\n",
                "avg_age_female_smoker = round((female_smokers_age / female_smokers),2)\n",
                "\n",
                "# Result\n",
                "print(f\"The average smoker has an age of {int(avg_age_smoker)} years old\")\n",
                "print(f\"The average male smoker has an age of {int(avg_age_male_smoker)} years old\")\n",
                "print(f\"The average female smoker has an age of {int(avg_age_female_smoker)} years old\")"
            ]
        },
        {
            "cell_type": "code",
            "execution_count": 91,
            "metadata": {},
            "outputs": [],
            "source": [
                "# 7 Top region out of 4\n",
                "# a) highest avg. children\n",
                "# b) highest avg. age\n",
                "# e) highest avg. charges\n",
                "\n",
                "def count_region(region):\n",
                "    num_region = 0\n",
                "    for c in clients:\n",
                "        if c.get('region') == region:\n",
                "            num_region += 1\n",
                "    return num_region\n",
                "\n",
                "northwest = count_region('northwest')\n",
                "northeast = count_region('northeast')\n",
                "southwest = count_region('southwest')\n",
                "southeast = count_region('southeast')\n",
                "\n",
                "def highest_avg_in_four_regions(column_name):\n",
                "    \n",
                "    nw_amount = 0\n",
                "    ne_amount = 0\n",
                "    sw_amount = 0\n",
                "    se_amount = 0\n",
                "    \n",
                "    for c in clients:\n",
                "        # makes sure function works for a, b and e\n",
                "        if column_name == 'children' or column_name == 'charges':\n",
                "            add_amount = float(c.get(column_name))\n",
                "        else:\n",
                "            add_amount = int(c.get(column_name))\n",
                "        \n",
                "        if c.get('region') == 'northwest':\n",
                "            nw_amount += add_amount\n",
                "        elif c.get('region') == 'northeast':\n",
                "            ne_amount += add_amount\n",
                "        elif c.get('region') == 'southwest':\n",
                "            sw_amount += add_amount\n",
                "        else:\n",
                "            se_amount += add_amount\n",
                "    \n",
                "    #this makes the assumption all regions are present in the dataset\n",
                "    nw_average = round((nw_amount / northwest),3)\n",
                "    ne_average = round((ne_amount / northeast),3)\n",
                "    sw_average = round((sw_amount / southwest),3)\n",
                "    se_average = round((se_amount / southeast),3)\n",
                "    \n",
                "    result = max([nw_average, ne_average, sw_average, se_average])\n",
                "    if result == nw_average:\n",
                "        print(f\"Northwest has the highest average for {column_name}: {nw_average}\")  \n",
                "    elif result == ne_average:\n",
                "        print(f\"Northeast has the highest average for {column_name}: {ne_average}\") \n",
                "    elif result == sw_average:\n",
                "        print(f\"Southwest has the highest average for {column_name}: {sw_average}\") \n",
                "    else:\n",
                "        print(f\"Southeast has the highest average for {column_name}: {se_average}\") \n"
            ]
        },
        {
            "cell_type": "code",
            "execution_count": 92,
            "metadata": {},
            "outputs": [],
            "source": [
                "# 7 Top region out of 4\n",
                "# c) highest female / male ratio\n",
                "\n",
                "def count_females_region(region):\n",
                "    num_females = 0\n",
                "    for c in clients:\n",
                "        if c.get('sex') == 'female' and c.get('region') == region:\n",
                "            num_females += 1\n",
                "    return num_females\n",
                "\n",
                "# Use female function per region\n",
                "num_females_northwest = count_females_region(\"northwest\")\n",
                "num_females_northeast = count_females_region(\"northeast\")\n",
                "num_females_southwest = count_females_region(\"southwest\")\n",
                "num_females_southeast = count_females_region(\"southeast\")\n",
                "\n",
                "def highest_female_to_male_ratio():\n",
                "    \n",
                "    nw_ratio = round(((num_females_northwest / northwest) * 100),2)\n",
                "    ne_ratio = round(((num_females_northeast / northeast) * 100),3)\n",
                "    sw_ratio = round(((num_females_southwest / southwest) * 100),3)\n",
                "    se_ratio = round(((num_females_southeast / southeast) * 100),3)\n",
                "    \n",
                "    result = max([nw_ratio, ne_ratio, sw_ratio, se_ratio])\n",
                "    if result == nw_ratio:\n",
                "        print(f\"Northwest has the highest female to male ratio: {nw_ratio}\")  \n",
                "    elif result == ne_ratio:\n",
                "        print(f\"Northeast has the highest female to male ratio: {ne_ratio}\")  \n",
                "    elif result == sw_ratio:\n",
                "        print(f\"Southwest has the highest female to male ratio: {sw_ratio}\")  \n",
                "    else:\n",
                "        print(f\"Southeast has the highest female to male ratio: {se_ratio}\")  \n",
                "        \n",
                "# d) highest % of smokers\n",
                "def highest_percent_smokers():\n",
                "    \n",
                "    nw_amount = 0\n",
                "    ne_amount = 0\n",
                "    sw_amount = 0\n",
                "    se_amount = 0\n",
                "    \n",
                "    for c in clients:\n",
                "        if c.get('smoker') == 'yes':\n",
                "            if c.get('region') == 'northwest':\n",
                "                nw_amount += 1\n",
                "            elif c.get('region') == 'northeast':\n",
                "                ne_amount += 1\n",
                "            elif c.get('region') == 'southwest':\n",
                "                sw_amount += 1\n",
                "            else:\n",
                "                se_amount += 1\n",
                "    \n",
                "    nw_perc = round(((nw_amount / northwest) * 100),3)\n",
                "    ne_perc = round(((ne_amount / northeast) * 100),3)\n",
                "    sw_perc = round(((sw_amount / southwest) * 100),3)\n",
                "    se_perc = round(((se_amount / southeast ) * 100),3)\n",
                "    \n",
                "    result = max([nw_perc, ne_perc, sw_perc, se_perc])\n",
                "    if result == nw_perc:\n",
                "        print(f\"Northwest has the highest percentage of smokers: {nw_perc} %\")  \n",
                "    elif result == ne_perc:\n",
                "        print(f\"Northeast has the highest percentage of smokers: {nw_perc} %\")  \n",
                "    elif result == sw_perc:\n",
                "        print(f\"Southwest has the highest percentage of smokers: {nw_perc} %\")  \n",
                "    else:\n",
                "        print(f\"Southeast has the highest percentage of smokers: {nw_perc} %\")  \n"
            ]
        },
        {
            "cell_type": "code",
            "execution_count": 93,
            "metadata": {},
            "outputs": [
                {
                    "name": "stdout",
                    "output_type": "stream",
                    "text": [
                        "Northwest has the highest average for children: 1.148\n",
                        "Southwest has the highest average for age: 39.455\n",
                        "Northwest has the highest female to male ratio: 50.46\n",
                        "Southeast has the highest percentage of smokers: 17.846 %\n",
                        "Southeast has the highest average for charges: 14735.411\n"
                    ]
                }
            ],
            "source": [
                "highest_avg_in_four_regions('children')\n",
                "highest_avg_in_four_regions('age')\n",
                "highest_female_to_male_ratio()\n",
                "highest_percent_smokers()\n",
                "highest_avg_in_four_regions('charges')"
            ]
        }
    ],
    "metadata": {
        "kernelspec": {
            "display_name": "Python 3 (ipykernel)",
            "language": "python",
            "name": "python3"
        },
        "language_info": {
            "codemirror_mode": {
                "name": "ipython",
                "version": 3
            },
            "file_extension": ".py",
            "mimetype": "text/x-python",
            "name": "python",
            "nbconvert_exporter": "python",
            "pygments_lexer": "ipython3",
            "version": "3.9.9"
        }
    },
    "nbformat": 4,
    "nbformat_minor": 4
}
