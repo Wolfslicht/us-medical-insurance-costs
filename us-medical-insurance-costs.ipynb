{
 "cells": [
  {
   "cell_type": "markdown",
   "metadata": {},
   "source": [
    "# U.S. Medical Insurance Costs"
   ]
  },
  {
   "cell_type": "markdown",
   "metadata": {},
   "source": [
    "__Questions to answer.__\n",
    "* How many Clients?\n",
    "* Average charges\n",
    "** Female\n",
    "** male\n",
    "* avg. bmi\n",
    "** Female\n",
    "** male\n",
    "* How many smokers?\n",
    "** Female\n",
    "** male\n",
    "* Avg. age of smokers?\n",
    "** Female\n",
    "** male\n",
    "* Sex of smokers?\n",
    "** Female\n",
    "** male\n",
    "* Avg. Childs\n",
    "* Top 5 regions\n",
    "** avg. Charges\n",
    "** avg. Childs\n",
    "** avg. age\n",
    "** Female / male\n",
    "** smokers\n"
   ]
  },
  {
   "cell_type": "code",
   "execution_count": null,
   "metadata": {},
   "outputs": [],
   "source": [
    "# importing needed modules\n",
    "import csv"
   ]
  }
 ],
 "metadata": {
  "kernelspec": {
   "display_name": "Python 3",
   "language": "python",
   "name": "python3"
  },
  "language_info": {
   "codemirror_mode": {
    "name": "ipython",
    "version": 3
   },
   "file_extension": ".py",
   "mimetype": "text/x-python",
   "name": "python",
   "nbconvert_exporter": "python",
   "pygments_lexer": "ipython3",
   "version": "3.7.6"
  }
 },
 "nbformat": 4,
 "nbformat_minor": 4
}
