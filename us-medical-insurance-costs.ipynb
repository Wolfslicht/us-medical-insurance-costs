{
 "cells": [
  {
   "cell_type": "markdown",
   "metadata": {},
   "source": [
    "# U.S. Medical Insurance Costs"
   ]
  },
  {
   "cell_type": "markdown",
   "metadata": {},
   "source": [
    "__Questions to answer.__\n",
    "* How many Clients?\n",
    "* avg. age total / male / female\n",
    "* avg. bmi total / male / female\n",
    "* Average charges\n",
    "** Female\n",
    "** male\n",
    "* How many smokers?\n",
    "** Female\n",
    "** male\n",
    "* Avg. age of smokers?\n",
    "** Female\n",
    "** male\n",
    "* Sex of smokers?\n",
    "** Female\n",
    "** male\n",
    "* Avg. Childs\n",
    "* Top 5 regions\n",
    "** avg. Charges\n",
    "** avg. Childs\n",
    "** avg. age\n",
    "** Female / male\n",
    "** smokers\n"
   ]
  },
  {
   "cell_type": "markdown",
   "metadata": {},
   "source": [
    "Possible Plugins to use\n",
    "* csv\n",
    "* pandas\n",
    "* matplotlib\n",
    "* json"
   ]
  },
  {
   "cell_type": "code",
   "execution_count": 1,
   "metadata": {},
   "outputs": [],
   "source": [
    "# importing needed modules\n",
    "import csv"
   ]
  },
  {
   "cell_type": "code",
   "execution_count": 28,
   "metadata": {},
   "outputs": [],
   "source": [
    "# declare dictionary with all clients data\n",
    "clients = []"
   ]
  },
  {
   "cell_type": "code",
   "execution_count": null,
   "metadata": {},
   "outputs": [],
   "source": [
    "with open ('insurance.csv') as insur:\n",
    "  df = csv.DictReader(insur)\n",
    "  for row in df:\n",
    "    clients.append(row)\n",
    "print(clients)"
   ]
  },
  {
   "cell_type": "code",
   "execution_count": 45,
   "metadata": {},
   "outputs": [
    {
     "name": "stdout",
     "output_type": "stream",
     "text": [
      "There are 1338 clients. 662 female clients and 676 male clients.\n"
     ]
    }
   ],
   "source": [
    "# How many clients inside the db // total / male / female\n",
    "# variables\n",
    "total_clients = 0\n",
    "female_clients = 0\n",
    "male_clients = 0\n",
    "\n",
    "#code\n",
    "for i in clients:\n",
    "  total_clients += 1\n",
    "  if i.get('sex') == 'male':\n",
    "    male_clients += 1\n",
    "  elif i.get('sex') == 'female':\n",
    "    female_clients += 1\n",
    "  else:\n",
    "    print(\"Unknown sex\")\n",
    "print(\"There are\", total_clients, \"clients.\", female_clients, \"female clients and\", male_clients, \"male clients.\")"
   ]
  },
  {
   "cell_type": "code",
   "execution_count": 49,
   "metadata": {},
   "outputs": [
    {
     "name": "stdout",
     "output_type": "stream",
     "text": [
      "39.20702541106129\n"
     ]
    }
   ],
   "source": [
    "# average age all\n",
    "avg_age = 0\n",
    "total_age = 0\n",
    "for age in clients:\n",
    "  total_age += int(age.get('age'))\n",
    "avg_age = total_age / total_clients\n",
    "print(avg_age)"
   ]
  },
  {
   "cell_type": "code",
   "execution_count": 48,
   "metadata": {},
   "outputs": [
    {
     "name": "stdout",
     "output_type": "stream",
     "text": [
      "The women avg. age is: 39.503021148036254\n",
      "The males avg. age is: 38.917159763313606\n"
     ]
    }
   ],
   "source": [
    "# avg. age female / male \n",
    "fem_total_age = 0\n",
    "male_total_age = 0\n",
    "for age in clients:\n",
    "  if age.get('sex') == 'male':\n",
    "    male_total_age += int(age.get('age'))\n",
    "  elif age.get('sex') == 'female':\n",
    "    fem_total_age += int(age.get('age'))\n",
    "  else:\n",
    "    print (\"Error!\")\n",
    "fem_avg_age = fem_total_age / female_clients\n",
    "male_avg_age = male_total_age / male_clients\n",
    "print (\"The women avg. age is:\", fem_avg_age)\n",
    "print (\"The males avg. age is:\", male_avg_age)\n",
    "\n"
   ]
  },
  {
   "cell_type": "code",
   "execution_count": 47,
   "metadata": {},
   "outputs": [
    {
     "name": "stdout",
     "output_type": "stream",
     "text": [
      "30.663396860986538\n",
      "30.377749244713023\n",
      "30.943128698224832\n"
     ]
    }
   ],
   "source": [
    "# avg BMI total, female and male\n",
    "# variables\n",
    "total_bmi = 0\n",
    "male_bmi = 0\n",
    "female_bmi = 0\n",
    "\n",
    "# code\n",
    "for bmi in clients:\n",
    "  total_bmi += float(bmi.get('bmi'))\n",
    "  if bmi.get('sex') == 'male':\n",
    "    male_bmi += float(bmi.get('bmi'))\n",
    "  elif bmi.get('sex') == 'female':\n",
    "    female_bmi += float(bmi.get('bmi'))\n",
    "  else:\n",
    "    print(\"Error!\")\n",
    "\n",
    "total_avg = total_bmi / total_clients\n",
    "female_avg = female_bmi / female_clients\n",
    "male_avg = male_bmi / male_clients\n",
    "\n",
    "# ergebnis\n",
    "print(total_avg)\n",
    "print(female_avg)\n",
    "print(male_avg)"
   ]
  }
 ],
 "metadata": {
  "kernelspec": {
   "display_name": "Python 3",
   "language": "python",
   "name": "python3"
  },
  "language_info": {
   "codemirror_mode": {
    "name": "ipython",
    "version": 3
   },
   "file_extension": ".py",
   "mimetype": "text/x-python",
   "name": "python",
   "nbconvert_exporter": "python",
   "pygments_lexer": "ipython3",
   "version": "3.9.9"
  }
 },
 "nbformat": 4,
 "nbformat_minor": 4
}
