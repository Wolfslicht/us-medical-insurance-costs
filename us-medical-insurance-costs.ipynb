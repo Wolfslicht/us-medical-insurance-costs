{
 "cells": [
  {
   "cell_type": "markdown",
   "metadata": {},
   "source": [
    "# U.S. Medical Insurance Costs"
   ]
  },
  {
   "cell_type": "markdown",
   "metadata": {},
   "source": [
    "__Questions to answer.__\n",
    "* ~~How many Clients?~~\n",
    "* ~~avg. age total / male / female~~\n",
    "* ~~avg. bmi total / male / female~~\n",
    "* Average charges\n",
    "** Female\n",
    "** male\n",
    "* How many smokers?\n",
    "** Female\n",
    "** male\n",
    "* Avg. age of smokers?\n",
    "** Female\n",
    "** male\n",
    "* Sex of smokers?\n",
    "** Female\n",
    "** male\n",
    "* Avg. Childs\n",
    "* Top 5 regions\n",
    "** avg. Charges\n",
    "** avg. Childs\n",
    "** avg. age\n",
    "** Female / male\n",
    "** smokers\n"
   ]
  },
  {
   "cell_type": "markdown",
   "metadata": {},
   "source": [
    "Possible Plugins to use\n",
    "* csv\n",
    "* pandas\n",
    "* matplotlib\n",
    "* json"
   ]
  },
  {
   "cell_type": "code",
   "execution_count": 9,
   "metadata": {},
   "outputs": [],
   "source": [
    "# importing needed modules\n",
    "import csv"
   ]
  },
  {
   "cell_type": "code",
   "execution_count": 10,
   "metadata": {},
   "outputs": [],
   "source": [
    "# declare dictionary with all clients data\n",
    "clients = []"
   ]
  },
  {
   "cell_type": "code",
   "execution_count": null,
   "metadata": {},
   "outputs": [],
   "source": [
    "with open ('insurance.csv') as insur:\n",
    "  df = csv.DictReader(insur)\n",
    "  for row in df:\n",
    "    clients.append(row)\n",
    "#print(clients)"
   ]
  },
  {
   "cell_type": "code",
   "execution_count": 12,
   "metadata": {},
   "outputs": [
    {
     "name": "stdout",
     "output_type": "stream",
     "text": [
      "There are 1338 clients. 662 female clients and 676 male clients.\n"
     ]
    }
   ],
   "source": [
    "# How many clients inside the db // total / male / female\n",
    "# variables\n",
    "total_clients = 0\n",
    "female_clients = 0\n",
    "male_clients = 0\n",
    "\n",
    "#code\n",
    "for i in clients:\n",
    "  total_clients += 1\n",
    "  if i.get('sex') == 'male':\n",
    "    male_clients += 1\n",
    "  elif i.get('sex') == 'female':\n",
    "    female_clients += 1\n",
    "  else:\n",
    "    print(\"Unknown sex\")\n",
    "print(\"There are\", total_clients, \"clients.\", female_clients, \"female clients and\", male_clients, \"male clients.\")"
   ]
  },
  {
   "cell_type": "code",
   "execution_count": 22,
   "metadata": {},
   "outputs": [
    {
     "name": "stdout",
     "output_type": "stream",
     "text": [
      "The total average age is: 39.2\n"
     ]
    }
   ],
   "source": [
    "# average age all\n",
    "avg_age = 0\n",
    "total_age = 0\n",
    "for age in clients:\n",
    "  total_age += int(age.get('age'))\n",
    "avg_age = round((total_age / total_clients),1)\n",
    "print(\"The total average age is:\", avg_age)"
   ]
  },
  {
   "cell_type": "code",
   "execution_count": 21,
   "metadata": {},
   "outputs": [
    {
     "name": "stdout",
     "output_type": "stream",
     "text": [
      "The women avg. age is: 39.5\n",
      "The males avg. age is: 38.9\n"
     ]
    }
   ],
   "source": [
    "# avg. age female / male \n",
    "fem_total_age = 0\n",
    "male_total_age = 0\n",
    "for age in clients:\n",
    "  if age.get('sex') == 'male':\n",
    "    male_total_age += int(age.get('age'))\n",
    "  elif age.get('sex') == 'female':\n",
    "    fem_total_age += int(age.get('age'))\n",
    "  else:\n",
    "    print (\"Error!\")\n",
    "fem_avg_age = round((fem_total_age / female_clients),1)\n",
    "male_avg_age = round((male_total_age / male_clients),1)\n",
    "print (\"The women avg. age is:\", fem_avg_age)\n",
    "print (\"The males avg. age is:\", male_avg_age)\n",
    "\n"
   ]
  },
  {
   "cell_type": "code",
   "execution_count": 19,
   "metadata": {},
   "outputs": [
    {
     "name": "stdout",
     "output_type": "stream",
     "text": [
      "The total average bmi is: 30.7\n",
      "The female average bmi is: 30.4\n",
      "The male average bmi is: 30.9\n"
     ]
    }
   ],
   "source": [
    "# avg BMI total, female and male\n",
    "# variables\n",
    "total_bmi = 0\n",
    "male_bmi = 0\n",
    "female_bmi = 0\n",
    "\n",
    "# code\n",
    "for bmi in clients:\n",
    "  total_bmi += float(bmi.get('bmi'))\n",
    "  if bmi.get('sex') == 'male':\n",
    "    male_bmi += float(bmi.get('bmi'))\n",
    "  elif bmi.get('sex') == 'female':\n",
    "    female_bmi += float(bmi.get('bmi'))\n",
    "  else:\n",
    "    print(\"Error!\")\n",
    "\n",
    "total_avg_bmi = round((total_bmi / total_clients),1)\n",
    "female_avg_bmi = round((female_bmi / female_clients),1)\n",
    "male_avg_bmi = round((male_bmi / male_clients),1)\n",
    "\n",
    "# ergebnis\n",
    "print(\"The total average bmi is:\",total_avg_bmi)\n",
    "print(\"The female average bmi is:\",female_avg_bmi)\n",
    "print(\"The male average bmi is:\",male_avg_bmi)"
   ]
  },
  {
   "cell_type": "code",
   "execution_count": 29,
   "metadata": {},
   "outputs": [
    {
     "name": "stdout",
     "output_type": "stream",
     "text": [
      "18\n"
     ]
    }
   ],
   "source": [
    "# youngest age, oldest age / year gap (10-20 / 20-30 / 30-40 / 40-50 / 50-60 / 60-70 / 70-80 / 80-90 / 90-100)\n",
    "ages = []\n",
    "total_age = 0\n",
    "for age in clients:\n",
    "  total_age += int(age.get('age'))\n",
    "  age_tmp = int(age.get('age'))\n",
    "  if age_tmp >= 10 and  age_tmp <=20:\n",
    "    ages = age_tmp\n",
    "print (ages)"
   ]
  },
  {
   "cell_type": "code",
   "execution_count": null,
   "metadata": {},
   "outputs": [],
   "source": [
    "# avg. charges total / female / male / age classes"
   ]
  }
 ],
 "metadata": {
  "kernelspec": {
   "display_name": "Python 3",
   "language": "python",
   "name": "python3"
  },
  "language_info": {
   "codemirror_mode": {
    "name": "ipython",
    "version": 3
   },
   "file_extension": ".py",
   "mimetype": "text/x-python",
   "name": "python",
   "nbconvert_exporter": "python",
   "pygments_lexer": "ipython3",
   "version": "3.9.9"
  }
 },
 "nbformat": 4,
 "nbformat_minor": 4
}
